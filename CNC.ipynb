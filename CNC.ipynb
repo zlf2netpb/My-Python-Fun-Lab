{
 "cells": [
  {
   "cell_type": "code",
   "execution_count": 1,
   "metadata": {},
   "outputs": [
    {
     "name": "stdout",
     "output_type": "stream",
     "text": [
      "Collecting npTDMS\n",
      "  Downloading https://files.pythonhosted.org/packages/0e/fe/1825c5f203f8d620e03ce5c8f11d68a7e5a9750598687416a0456e3c9843/npTDMS-0.13.0-py2.py3-none-any.whl\n",
      "Requirement already satisfied: numpy in c:\\users\\user\\anaconda3\\envs\\tensorflow\\lib\\site-packages (from npTDMS) (1.14.3)\n",
      "Installing collected packages: npTDMS\n",
      "Successfully installed npTDMS-0.13.0\n"
     ]
    },
    {
     "name": "stderr",
     "output_type": "stream",
     "text": [
      "You are using pip version 19.0.1, however version 19.0.3 is available.\n",
      "You should consider upgrading via the 'python -m pip install --upgrade pip' command.\n"
     ]
    }
   ],
   "source": [
    "!pip install npTDMS"
   ]
  },
  {
   "cell_type": "code",
   "execution_count": 2,
   "metadata": {},
   "outputs": [],
   "source": [
    "from nptdms import TdmsFile\n",
    "from nptdms import TdmsWriter, ChannelObject\n",
    "import numpy\n",
    "import pandas as pd\n",
    "from nptdms import TdmsFile\n",
    "import numpy as np\n",
    "import pandas as pd\n",
    "import os\n",
    "import csv\n",
    "from tsfresh import extract_features, extract_relevant_features, select_features\n",
    "from tsfresh.utilities.dataframe_functions import impute\n",
    "from tsfresh.feature_extraction.settings import ComprehensiveFCParameters\n",
    "from tsfresh import extract_features\n",
    "from tsfresh.utilities.dataframe_functions import make_forecasting_frame"
   ]
  },
  {
   "cell_type": "code",
   "execution_count": 90,
   "metadata": {},
   "outputs": [
    {
     "name": "stderr",
     "output_type": "stream",
     "text": [
      "C:\\Users\\USER\\Anaconda3\\envs\\tensorflow\\lib\\site-packages\\nptdms\\tdms.py:772: FutureWarning: from_items is deprecated. Please use DataFrame.from_dict(dict(items), ...) instead. DataFrame.from_dict(OrderedDict(items)) may be used to preserve the key order.\n",
      "  for ch in self.tdms_file.group_channels(self.group)])\n"
     ]
    }
   ],
   "source": [
    "# 2,3,4當train、8當test\n",
    "# preprocessing\n",
    "# mean\n",
    "path = \"/Users/USER/Desktop/大數據分析大賽/split9/test\"\n",
    "os.chdir( path )\n",
    "\n",
    "files = os.listdir(path)\n",
    "with open(\"/Users/USER/Desktop/大數據分析大賽/split9/test/original_mean.csv\",'w') as writeFile:\n",
    "    writer = csv.writer(writeFile)\n",
    "    for file in files:\n",
    "        tdms_file = TdmsFile(file)\n",
    "        tdms_groups = tdms_file.groups()\n",
    "        for group in tdms_file.groups():\n",
    "            grp1_data = tdms_file.object('Spindle').as_dataframe()\n",
    "            grp2_data = tdms_file.object('Current').as_dataframe()\n",
    "            cnc = pd.concat([grp1_data,grp2_data],axis=1)\n",
    "            mean = cnc.mean() \n",
    "        writer.writerows([mean])\n",
    "cnc_mean = pd.read_csv(\"original_mean.csv\",names=['S01','S02','S03','IA','IB','IC'])\n",
    "cnc_mean.to_csv(\"mean.csv\")"
   ]
  },
  {
   "cell_type": "code",
   "execution_count": 9,
   "metadata": {},
   "outputs": [],
   "source": [
    "# 2,3,4當train、8當test\n",
    "# preprocessing\n",
    "# std\n",
    "path = \"/Users/USER/Desktop/大數據分析大賽/split9/8\"\n",
    "os.chdir( path )\n",
    "\n",
    "files = os.listdir(path)\n",
    "with open(\"/Users/USER/Desktop/大數據分析大賽/split9/8/original_std.csv\",'w') as writeFile:\n",
    "    writer = csv.writer(writeFile)\n",
    "    for file in files:\n",
    "        tdms_file = TdmsFile(file)\n",
    "        tdms_groups = tdms_file.groups()\n",
    "        for group in tdms_file.groups():\n",
    "            grp1_data = tdms_file.object('Spindle').as_dataframe()\n",
    "            grp2_data = tdms_file.object('Current').as_dataframe()\n",
    "            cnc = pd.concat([grp1_data,grp2_data],axis=1)\n",
    "            std = cnc.std() \n",
    "        writer.writerows([std])\n",
    "cnc_mean = pd.read_csv(\"original_std.csv\",names=['S01','S02','S03','IA','IB','IC'])\n",
    "cnc_mean.to_csv(\"std.csv\")"
   ]
  },
  {
   "cell_type": "code",
   "execution_count": 5,
   "metadata": {},
   "outputs": [],
   "source": [
    "# 預處理"
   ]
  },
  {
   "cell_type": "code",
   "execution_count": 6,
   "metadata": {},
   "outputs": [
    {
     "name": "stdout",
     "output_type": "stream",
     "text": [
      "<class 'pandas.core.frame.DataFrame'>\n",
      "RangeIndex: 1536000 entries, 0 to 1535999\n",
      "Data columns (total 6 columns):\n",
      "S01    1536000 non-null float64\n",
      "S02    1536000 non-null float64\n",
      "S03    1536000 non-null float64\n",
      "IA     1536000 non-null float64\n",
      "IB     1536000 non-null float64\n",
      "IC     1536000 non-null float64\n",
      "dtypes: float64(6)\n",
      "memory usage: 70.3 MB\n"
     ]
    }
   ],
   "source": [
    "cnc.info()"
   ]
  },
  {
   "cell_type": "code",
   "execution_count": 7,
   "metadata": {},
   "outputs": [
    {
     "data": {
      "text/plain": [
       "S01    0\n",
       "S02    0\n",
       "S03    0\n",
       "IA     0\n",
       "IB     0\n",
       "IC     0\n",
       "dtype: int64"
      ]
     },
     "execution_count": 7,
     "metadata": {},
     "output_type": "execute_result"
    }
   ],
   "source": [
    "cnc.isnull().sum()"
   ]
  },
  {
   "cell_type": "code",
   "execution_count": 134,
   "metadata": {},
   "outputs": [],
   "source": [
    "# 補NA值，時序資料常用往前遇到的第一個非 nan 值\n",
    "cnc['S01'].fillna(method='ffill', inplace=True)\n",
    "cnc['IC'].fillna(method='ffill', inplace=True)"
   ]
  },
  {
   "cell_type": "code",
   "execution_count": 135,
   "metadata": {},
   "outputs": [],
   "source": [
    "cnc = cnc.fillna(method='ffill')"
   ]
  },
  {
   "cell_type": "code",
   "execution_count": null,
   "metadata": {},
   "outputs": [],
   "source": [
    "file = \"/Users/USER/Desktop/大數據分析大賽/split9/cu/number12.tdms\"\n",
    "tdms_file = TdmsFile(file)\n",
    "tdms_groups = tdms_file.groups()\n",
    "for group in tdms_file.groups():\n",
    "    grp1_data = tdms_file.object('Spindle').as_dataframe()\n",
    "    grp2_data = tdms_file.object('Current').as_dataframe()\n",
    "    cnc = pd.concat([grp1_data,grp2_data],axis=1)\n",
    "print(cnc)"
   ]
  },
  {
   "cell_type": "code",
   "execution_count": null,
   "metadata": {},
   "outputs": [],
   "source": []
  },
  {
   "cell_type": "code",
   "execution_count": 3,
   "metadata": {},
   "outputs": [],
   "source": [
    "import numpy as np\n",
    "import pandas as pd\n",
    "import matplotlib.pylab as plt\n",
    "import seaborn as sns\n",
    " \n",
    "from tsfresh import extract_features\n",
    "from tsfresh.utilities.dataframe_functions import make_forecasting_frame\n",
    "from sklearn.ensemble import AdaBoostRegressor\n",
    "from tsfresh.utilities.dataframe_functions import impute\n",
    "import warnings\n",
    "warnings.filterwarnings('ignore')"
   ]
  },
  {
   "cell_type": "code",
   "execution_count": null,
   "metadata": {},
   "outputs": [],
   "source": [
    "# 2,3,4當train、82當test\n",
    "# preprocessing\n",
    "# mean\n",
    "path = \"/Users/USER/Desktop/大數據分析大賽/split9/2\"\n",
    "os.chdir( path )\n",
    "\n",
    "files = os.listdir(path)\n",
    "with open(\"/Users/USER/Desktop/大數據分析大賽/split9/2/original_mean.csv\",'w') as writeFile:\n",
    "    writer = csv.writer(writeFile)\n",
    "    for file in files:\n",
    "        tdms_file = TdmsFile(file)\n",
    "        tdms_groups = tdms_file.groups()\n",
    "        for group in tdms_file.groups():\n",
    "            grp1_data = tdms_file.object('Spindle').as_dataframe()\n",
    "            grp2_data = tdms_file.object('Current').as_dataframe()\n",
    "            cnc = pd.concat([grp1_data,grp2_data],axis=1)\n",
    "            mean = cnc.mean() \n",
    "        writer.writerows([mean])\n",
    "cnc_mean = pd.read_csv(\"original_mean.csv\",names=['S01','S02','S03','IA','IB','IC'])\n",
    "cnc_mean.to_csv(\"mean.csv\")"
   ]
  },
  {
   "cell_type": "code",
   "execution_count": 32,
   "metadata": {},
   "outputs": [
    {
     "name": "stdout",
     "output_type": "stream",
     "text": [
      "              S01       S02       S03         IA         IB         IC\n",
      "0       -0.055719 -0.832051  1.298758 -13.666917 -33.478444  45.538024\n",
      "1        1.280510 -1.489695 -2.848784 -15.785851 -37.067411  51.070035\n",
      "2       -0.975207  0.862919 -2.780742 -15.398786 -40.016515  54.171096\n",
      "3        1.043348  3.145402 -0.918428 -10.931933 -39.190672  48.484063\n",
      "4        2.313699  2.277975 -4.078803  -8.255120 -38.051521  44.739422\n",
      "5        1.015899  1.449334 -1.254487  -3.774532 -37.446199  39.522310\n",
      "6        0.425558  1.968912  1.938138  -1.613262 -39.198970  39.491832\n",
      "7        0.954657  0.536536  1.019625  -4.702228 -43.246203  46.363564\n",
      "8       -0.181497 -0.736429 -1.030081  -4.586168 -45.600288  48.739133\n",
      "9       -1.303988 -1.288450  1.229738   0.061878 -45.886196  44.576601\n",
      "10       0.366145 -2.724729  2.139334   0.992083 -45.265341  42.530809\n",
      "11       0.153871 -2.225153  0.003384   3.099916 -44.916052  40.180205\n",
      "12      -0.130991 -1.797417  2.371070   7.722373 -46.198032  36.952783\n",
      "13       0.203402 -0.598973  2.875709   6.941437 -46.642112  38.069729\n",
      "14       0.851204 -0.082932 -0.886422   6.404444 -46.814032  39.030713\n",
      "15       0.397620  1.704366 -2.763639  11.421336 -48.607169  35.948822\n",
      "16       0.047734  2.314687 -0.513715  12.016814 -49.123650  35.763385\n",
      "17       1.688710  2.379939 -2.087001  11.288781 -49.029610  35.896073\n",
      "18       1.378961  0.492994 -1.610581  15.803174 -51.561440  34.357164\n",
      "19       0.597329  0.175393  1.454022  17.121542 -51.133018  32.085464\n",
      "20       0.635636 -0.215876  2.698822  14.004824 -45.201772  28.988162\n",
      "21       0.257934 -0.835344 -0.773791  17.018151 -45.220811  27.435031\n",
      "22      -1.041086 -0.703498  0.355080  20.906178 -49.426029  27.130689\n",
      "23      -0.064137 -0.605559  2.233763  21.616085 -50.931442  27.761050\n",
      "24       1.550610 -1.656911 -0.923925  25.468456 -54.817151  28.199396\n",
      "25       1.291001 -2.193198 -0.148460  27.639604 -55.415897  25.723246\n",
      "26       0.588179 -0.388946  3.214700  25.049216 -48.313245  21.023227\n",
      "27       0.416652  1.146247  0.140691  23.772462 -41.856938  16.921181\n",
      "28      -0.625687  2.720348 -2.077106  27.572119 -45.033202  16.351557\n",
      "29      -1.220787  2.166986 -0.232261  30.610094 -49.320528  17.503429\n",
      "...           ...       ...       ...        ...        ...        ...\n",
      "1548770 -0.813440 -1.561289 -1.727731 -14.185377 -34.171542  46.669441\n",
      "1548771 -0.367420 -0.808999  0.085597  -9.874943 -33.036681  41.218622\n",
      "1548772  0.167047 -0.502131  1.444250  -7.339277 -35.406925  40.908328\n",
      "1548773 -0.717185  0.332608  1.626755 -10.511940 -38.182950  47.128962\n",
      "1548774  0.058104  0.442988 -1.084320 -11.717760 -41.629746  52.238102\n",
      "1548775  0.877433  1.143076 -1.015544  -7.771625 -42.732008  48.803629\n",
      "1548776  0.083357  1.995013 -1.785268  -5.344839 -41.256846  45.422658\n",
      "1548777  0.388837  1.809502 -3.172872  -3.643043 -41.128109  42.957565\n",
      "1548778  0.560364  0.674846 -1.889592   1.211722 -41.392190  38.889067\n",
      "1548779 -0.937876  0.610692  2.170363   1.079167 -43.693978  40.616295\n",
      "1548780 -1.886400 -1.051225  0.223392  -1.476694 -44.140470  44.318774\n",
      "1548781 -2.764166 -1.282230 -0.734823   3.209861 -45.935673  41.664391\n",
      "1548782 -2.950088 -2.203078 -0.028866   5.209756 -46.633782  39.723660\n",
      "1548783 -2.213351 -1.849740 -0.505775   3.965176 -45.345320  40.072921\n",
      "1548784  0.005157 -1.177704  0.846892   7.874433 -47.365742  38.209778\n",
      "1548785  1.275020  0.343707  2.826601  10.639114 -48.901218  36.249939\n",
      "1548786  2.257581  0.310776 -0.739953   8.086107 -44.785938  34.864453\n",
      "1548787  2.912824  1.749372 -1.879697  10.643693 -45.101313  33.381112\n",
      "1548788  2.970407  1.148077 -2.162495  14.760766 -48.423756  32.313690\n",
      "1548789  1.750685 -0.137085 -0.626468  14.967799 -49.464390  33.069033\n",
      "1548790  1.340288 -1.366265 -0.840490  17.512120 -52.204528  33.220546\n",
      "1548791 -0.703277 -1.736311  2.474539  21.275055 -54.235785  31.597345\n",
      "1548792 -2.331444 -0.517133  2.803757  19.053827 -49.373325  27.808631\n",
      "1548793 -2.171018 -0.226853  0.118458  16.851226 -42.218628  23.995829\n",
      "1548794 -2.049265 -0.121961 -1.237263  21.028509 -44.756157  23.337089\n",
      "1548795 -1.483689  0.730463 -0.041570  23.718524 -49.176635  24.089362\n",
      "1548796  0.625754  1.127830 -2.507838  26.209942 -52.967240  25.681929\n",
      "1548797  1.171323  0.865480 -2.058904  30.085049 -57.048606  24.904033\n",
      "1548798  1.363101  1.028306  0.085353  28.810960 -51.256994  20.554466\n",
      "1548799  1.208532  1.121000  0.215208  27.037133 -45.574297  16.994792\n",
      "\n",
      "[1548800 rows x 6 columns]\n"
     ]
    }
   ],
   "source": [
    "# 2,3,4當train、82當test\n",
    "# preprocessing\n",
    "# mean\n",
    "path = \"/Users/USER/Desktop/大數據分析大賽/split9/2\"\n",
    "os.chdir( path )\n",
    "\n",
    "files = os.listdir(path)\n",
    "with open(\"/Users/USER/Desktop/大數據分析大賽/split9/2/original_all.csv\",'w') as writeFile:\n",
    "    writer = csv.writer(writeFile)\n",
    "    for file in files:\n",
    "        tdms_file = TdmsFile(file)\n",
    "        tdms_groups = tdms_file.groups()\n",
    "        for group in tdms_file.groups():\n",
    "            grp1_data = tdms_file.object('Spindle').as_dataframe()\n",
    "            grp2_data = tdms_file.object('Current').as_dataframe()\n",
    "            cnc = pd.concat([grp1_data,grp2_data],axis=1) \n",
    "print(cnc)\n",
    "cnc.to_csv(\"all.csv\")"
   ]
  },
  {
   "cell_type": "code",
   "execution_count": 3,
   "metadata": {},
   "outputs": [
    {
     "name": "stderr",
     "output_type": "stream",
     "text": [
      "C:\\Users\\USER\\Anaconda3\\envs\\tensorflow\\lib\\site-packages\\nptdms\\tdms.py:772: FutureWarning: from_items is deprecated. Please use DataFrame.from_dict(dict(items), ...) instead. DataFrame.from_dict(OrderedDict(items)) may be used to preserve the key order.\n",
      "  for ch in self.tdms_file.group_channels(self.group)])\n"
     ]
    }
   ],
   "source": [
    "# 2 concate\n",
    "appended_data_2 = []\n",
    "path = \"/Users/USER/Desktop/大數據分析大賽/split9/2\"\n",
    "os.chdir( path )\n",
    "\n",
    "files = os.listdir(path)\n",
    "with open(\"/Users/USER/Desktop/大數據分析大賽/split9/2/original_all.csv\",'w') as writeFile:\n",
    "    writer = csv.writer(writeFile)\n",
    "    for file in files:\n",
    "        tdms_file = TdmsFile(file)\n",
    "        tdms_groups = tdms_file.groups()\n",
    "        for group in tdms_file.groups():\n",
    "            grp1_data = tdms_file.object('Spindle').as_dataframe()\n",
    "            grp2_data = tdms_file.object('Current').as_dataframe()\n",
    "            cnc = pd.concat([grp1_data,grp2_data],axis=1)\n",
    "        appended_data_2.append(cnc)\n",
    "appended_data_2 = pd.concat(appended_data_2, axis=0)\n",
    "appended_data_2[\"id\"]=2\n",
    "appended_data_2[\"time\"]=appended_data_2.index"
   ]
  },
  {
   "cell_type": "code",
   "execution_count": 3,
   "metadata": {},
   "outputs": [
    {
     "name": "stderr",
     "output_type": "stream",
     "text": [
      "C:\\Users\\USER\\Anaconda3\\envs\\tensorflow\\lib\\site-packages\\nptdms\\tdms.py:772: FutureWarning: from_items is deprecated. Please use DataFrame.from_dict(dict(items), ...) instead. DataFrame.from_dict(OrderedDict(items)) may be used to preserve the key order.\n",
      "  for ch in self.tdms_file.group_channels(self.group)])\n"
     ]
    }
   ],
   "source": [
    "# 3 concate\n",
    "appended_data_3 = []\n",
    "path = \"/Users/USER/Desktop/大數據分析大賽/split9/3\"\n",
    "os.chdir( path )\n",
    "\n",
    "files = os.listdir(path)\n",
    "with open(\"/Users/USER/Desktop/大數據分析大賽/split9/3/original_all.csv\",'w') as writeFile:\n",
    "    writer = csv.writer(writeFile)\n",
    "    for file in files:\n",
    "        tdms_file = TdmsFile(file)\n",
    "        tdms_groups = tdms_file.groups()\n",
    "        for group in tdms_file.groups():\n",
    "            grp1_data = tdms_file.object('Spindle').as_dataframe()\n",
    "            grp2_data = tdms_file.object('Current').as_dataframe()\n",
    "            cnc = pd.concat([grp1_data,grp2_data],axis=1)\n",
    "        appended_data_3.append(cnc)\n",
    "appended_data_3 = pd.concat(appended_data_3, axis=0)\n",
    "appended_data_3[\"id\"]=3\n",
    "appended_data_3[\"time\"]=appended_data_3.index"
   ]
  },
  {
   "cell_type": "code",
   "execution_count": 4,
   "metadata": {},
   "outputs": [],
   "source": [
    "# 測試tsfresh \n",
    "path = \"/Users/USER/Desktop/大數據分析大賽/split9\"\n",
    "os.chdir( path )\n",
    "\n",
    "con_23 = pd.concat([appended_data_2,appended_data_3])"
   ]
  },
  {
   "cell_type": "code",
   "execution_count": 30,
   "metadata": {},
   "outputs": [],
   "source": [
    "y2 = pd.read_csv(\"y2.csv\")\n",
    "y3 = pd.read_csv(\"y3.csv\")\n",
    "y = pd.concat([y2,y3])\n",
    "# y = y.values"
   ]
  },
  {
   "cell_type": "code",
   "execution_count": 27,
   "metadata": {},
   "outputs": [],
   "source": [
    "df = pd.DataFrame([list(range(5))], columns=[\"a{}\".format(i) for i in range(5)])"
   ]
  },
  {
   "cell_type": "code",
   "execution_count": 31,
   "metadata": {},
   "outputs": [
    {
     "data": {
      "text/html": [
       "<div>\n",
       "<style scoped>\n",
       "    .dataframe tbody tr th:only-of-type {\n",
       "        vertical-align: middle;\n",
       "    }\n",
       "\n",
       "    .dataframe tbody tr th {\n",
       "        vertical-align: top;\n",
       "    }\n",
       "\n",
       "    .dataframe thead th {\n",
       "        text-align: right;\n",
       "    }\n",
       "</style>\n",
       "<table border=\"1\" class=\"dataframe\">\n",
       "  <thead>\n",
       "    <tr style=\"text-align: right;\">\n",
       "      <th></th>\n",
       "      <th>m1</th>\n",
       "      <th>s1</th>\n",
       "      <th>m2</th>\n",
       "      <th>s2</th>\n",
       "      <th>m3</th>\n",
       "      <th>s3</th>\n",
       "    </tr>\n",
       "  </thead>\n",
       "  <tbody>\n",
       "    <tr>\n",
       "      <th>0</th>\n",
       "      <td>0.026</td>\n",
       "      <td>0.183</td>\n",
       "      <td>0.018</td>\n",
       "      <td>3188.000</td>\n",
       "      <td>0.021</td>\n",
       "      <td>0.179</td>\n",
       "    </tr>\n",
       "    <tr>\n",
       "      <th>0</th>\n",
       "      <td>0.030</td>\n",
       "      <td>0.248</td>\n",
       "      <td>0.022</td>\n",
       "      <td>0.203</td>\n",
       "      <td>0.025</td>\n",
       "      <td>0.202</td>\n",
       "    </tr>\n",
       "  </tbody>\n",
       "</table>\n",
       "</div>"
      ],
      "text/plain": [
       "      m1     s1     m2        s2     m3     s3\n",
       "0  0.026  0.183  0.018  3188.000  0.021  0.179\n",
       "0  0.030  0.248  0.022     0.203  0.025  0.202"
      ]
     },
     "execution_count": 31,
     "metadata": {},
     "output_type": "execute_result"
    }
   ],
   "source": []
  },
  {
   "cell_type": "code",
   "execution_count": 5,
   "metadata": {},
   "outputs": [],
   "source": [
    "extract_settings = ComprehensiveFCParameters()"
   ]
  },
  {
   "cell_type": "code",
   "execution_count": 6,
   "metadata": {},
   "outputs": [
    {
     "ename": "MemoryError",
     "evalue": "",
     "output_type": "error",
     "traceback": [
      "\u001b[1;31m---------------------------------------------------------------------------\u001b[0m",
      "\u001b[1;31mMemoryError\u001b[0m                               Traceback (most recent call last)",
      "\u001b[1;32m<ipython-input-6-4c25cc3dacf5>\u001b[0m in \u001b[0;36m<module>\u001b[1;34m()\u001b[0m\n\u001b[1;32m----> 1\u001b[1;33m \u001b[0mX_filtered\u001b[0m \u001b[1;33m=\u001b[0m \u001b[0mextract_features\u001b[0m\u001b[1;33m(\u001b[0m\u001b[0mcon_23\u001b[0m\u001b[1;33m,\u001b[0m \u001b[0mcolumn_id\u001b[0m\u001b[1;33m=\u001b[0m\u001b[1;34m'id'\u001b[0m\u001b[1;33m,\u001b[0m \u001b[0mcolumn_sort\u001b[0m\u001b[1;33m=\u001b[0m\u001b[1;34m'time'\u001b[0m\u001b[1;33m,\u001b[0m \u001b[0mdefault_fc_parameters\u001b[0m\u001b[1;33m=\u001b[0m\u001b[0mextract_settings\u001b[0m\u001b[1;33m)\u001b[0m\u001b[1;33m\u001b[0m\u001b[0m\n\u001b[0m",
      "\u001b[1;32m~\\Anaconda3\\envs\\tensorflow\\lib\\site-packages\\tsfresh\\feature_extraction\\extraction.py\u001b[0m in \u001b[0;36mextract_features\u001b[1;34m(timeseries_container, default_fc_parameters, kind_to_fc_parameters, column_id, column_sort, column_kind, column_value, chunksize, n_jobs, show_warnings, disable_progressbar, impute_function, profile, profiling_filename, profiling_sorting, distributor)\u001b[0m\n\u001b[0;32m    135\u001b[0m                                                                         \u001b[0mcolumn_id\u001b[0m\u001b[1;33m=\u001b[0m\u001b[0mcolumn_id\u001b[0m\u001b[1;33m,\u001b[0m \u001b[0mcolumn_kind\u001b[0m\u001b[1;33m=\u001b[0m\u001b[0mcolumn_kind\u001b[0m\u001b[1;33m,\u001b[0m\u001b[1;33m\u001b[0m\u001b[0m\n\u001b[0;32m    136\u001b[0m                                                                         \u001b[0mcolumn_sort\u001b[0m\u001b[1;33m=\u001b[0m\u001b[0mcolumn_sort\u001b[0m\u001b[1;33m,\u001b[0m\u001b[1;33m\u001b[0m\u001b[0m\n\u001b[1;32m--> 137\u001b[1;33m                                                                         column_value=column_value)\n\u001b[0m\u001b[0;32m    138\u001b[0m \u001b[1;33m\u001b[0m\u001b[0m\n\u001b[0;32m    139\u001b[0m     \u001b[1;31m# Use the standard setting if the user did not supply ones himself.\u001b[0m\u001b[1;33m\u001b[0m\u001b[1;33m\u001b[0m\u001b[0m\n",
      "\u001b[1;32m~\\Anaconda3\\envs\\tensorflow\\lib\\site-packages\\tsfresh\\utilities\\dataframe_functions.py\u001b[0m in \u001b[0;36m_normalize_input_to_internal_representation\u001b[1;34m(timeseries_container, column_id, column_sort, column_kind, column_value)\u001b[0m\n\u001b[0;32m    341\u001b[0m \u001b[1;33m\u001b[0m\u001b[0m\n\u001b[0;32m    342\u001b[0m     \u001b[1;32mif\u001b[0m \u001b[0mcolumn_sort\u001b[0m\u001b[1;33m:\u001b[0m\u001b[1;33m\u001b[0m\u001b[0m\n\u001b[1;32m--> 343\u001b[1;33m         \u001b[0mtimeseries_container\u001b[0m \u001b[1;33m=\u001b[0m \u001b[0mtimeseries_container\u001b[0m\u001b[1;33m.\u001b[0m\u001b[0msort_values\u001b[0m\u001b[1;33m(\u001b[0m\u001b[1;33m[\u001b[0m\u001b[0mcolumn_id\u001b[0m\u001b[1;33m,\u001b[0m \u001b[0mcolumn_kind\u001b[0m\u001b[1;33m,\u001b[0m \u001b[0mcolumn_sort\u001b[0m\u001b[1;33m]\u001b[0m\u001b[1;33m)\u001b[0m\u001b[1;33m\u001b[0m\u001b[0m\n\u001b[0m\u001b[0;32m    344\u001b[0m         \u001b[0mtimeseries_container\u001b[0m \u001b[1;33m=\u001b[0m \u001b[0mtimeseries_container\u001b[0m\u001b[1;33m.\u001b[0m\u001b[0mdrop\u001b[0m\u001b[1;33m(\u001b[0m\u001b[0mcolumn_sort\u001b[0m\u001b[1;33m,\u001b[0m \u001b[0maxis\u001b[0m\u001b[1;33m=\u001b[0m\u001b[1;36m1\u001b[0m\u001b[1;33m)\u001b[0m\u001b[1;33m\u001b[0m\u001b[0m\n\u001b[0;32m    345\u001b[0m     \u001b[1;32melse\u001b[0m\u001b[1;33m:\u001b[0m\u001b[1;33m\u001b[0m\u001b[0m\n",
      "\u001b[1;32m~\\Anaconda3\\envs\\tensorflow\\lib\\site-packages\\pandas\\core\\frame.py\u001b[0m in \u001b[0;36msort_values\u001b[1;34m(self, by, axis, ascending, inplace, kind, na_position)\u001b[0m\n\u001b[0;32m   4426\u001b[0m         new_data = self._data.take(indexer,\n\u001b[0;32m   4427\u001b[0m                                    \u001b[0maxis\u001b[0m\u001b[1;33m=\u001b[0m\u001b[0mself\u001b[0m\u001b[1;33m.\u001b[0m\u001b[0m_get_block_manager_axis\u001b[0m\u001b[1;33m(\u001b[0m\u001b[0maxis\u001b[0m\u001b[1;33m)\u001b[0m\u001b[1;33m,\u001b[0m\u001b[1;33m\u001b[0m\u001b[0m\n\u001b[1;32m-> 4428\u001b[1;33m                                    verify=False)\n\u001b[0m\u001b[0;32m   4429\u001b[0m \u001b[1;33m\u001b[0m\u001b[0m\n\u001b[0;32m   4430\u001b[0m         \u001b[1;32mif\u001b[0m \u001b[0minplace\u001b[0m\u001b[1;33m:\u001b[0m\u001b[1;33m\u001b[0m\u001b[0m\n",
      "\u001b[1;32m~\\Anaconda3\\envs\\tensorflow\\lib\\site-packages\\pandas\\core\\internals.py\u001b[0m in \u001b[0;36mtake\u001b[1;34m(self, indexer, axis, verify, convert)\u001b[0m\n\u001b[0;32m   4537\u001b[0m         \u001b[0mnew_labels\u001b[0m \u001b[1;33m=\u001b[0m \u001b[0mself\u001b[0m\u001b[1;33m.\u001b[0m\u001b[0maxes\u001b[0m\u001b[1;33m[\u001b[0m\u001b[0maxis\u001b[0m\u001b[1;33m]\u001b[0m\u001b[1;33m.\u001b[0m\u001b[0mtake\u001b[0m\u001b[1;33m(\u001b[0m\u001b[0mindexer\u001b[0m\u001b[1;33m)\u001b[0m\u001b[1;33m\u001b[0m\u001b[0m\n\u001b[0;32m   4538\u001b[0m         return self.reindex_indexer(new_axis=new_labels, indexer=indexer,\n\u001b[1;32m-> 4539\u001b[1;33m                                     axis=axis, allow_dups=True)\n\u001b[0m\u001b[0;32m   4540\u001b[0m \u001b[1;33m\u001b[0m\u001b[0m\n\u001b[0;32m   4541\u001b[0m     \u001b[1;32mdef\u001b[0m \u001b[0mmerge\u001b[0m\u001b[1;33m(\u001b[0m\u001b[0mself\u001b[0m\u001b[1;33m,\u001b[0m \u001b[0mother\u001b[0m\u001b[1;33m,\u001b[0m \u001b[0mlsuffix\u001b[0m\u001b[1;33m=\u001b[0m\u001b[1;34m''\u001b[0m\u001b[1;33m,\u001b[0m \u001b[0mrsuffix\u001b[0m\u001b[1;33m=\u001b[0m\u001b[1;34m''\u001b[0m\u001b[1;33m)\u001b[0m\u001b[1;33m:\u001b[0m\u001b[1;33m\u001b[0m\u001b[0m\n",
      "\u001b[1;32m~\\Anaconda3\\envs\\tensorflow\\lib\\site-packages\\pandas\\core\\internals.py\u001b[0m in \u001b[0;36mreindex_indexer\u001b[1;34m(self, new_axis, indexer, axis, fill_value, allow_dups, copy)\u001b[0m\n\u001b[0;32m   4423\u001b[0m             new_blocks = [blk.take_nd(indexer, axis=axis, fill_tuple=(\n\u001b[0;32m   4424\u001b[0m                 fill_value if fill_value is not None else blk.fill_value,))\n\u001b[1;32m-> 4425\u001b[1;33m                 for blk in self.blocks]\n\u001b[0m\u001b[0;32m   4426\u001b[0m \u001b[1;33m\u001b[0m\u001b[0m\n\u001b[0;32m   4427\u001b[0m         \u001b[0mnew_axes\u001b[0m \u001b[1;33m=\u001b[0m \u001b[0mlist\u001b[0m\u001b[1;33m(\u001b[0m\u001b[0mself\u001b[0m\u001b[1;33m.\u001b[0m\u001b[0maxes\u001b[0m\u001b[1;33m)\u001b[0m\u001b[1;33m\u001b[0m\u001b[0m\n",
      "\u001b[1;32m~\\Anaconda3\\envs\\tensorflow\\lib\\site-packages\\pandas\\core\\internals.py\u001b[0m in \u001b[0;36m<listcomp>\u001b[1;34m(.0)\u001b[0m\n\u001b[0;32m   4423\u001b[0m             new_blocks = [blk.take_nd(indexer, axis=axis, fill_tuple=(\n\u001b[0;32m   4424\u001b[0m                 fill_value if fill_value is not None else blk.fill_value,))\n\u001b[1;32m-> 4425\u001b[1;33m                 for blk in self.blocks]\n\u001b[0m\u001b[0;32m   4426\u001b[0m \u001b[1;33m\u001b[0m\u001b[0m\n\u001b[0;32m   4427\u001b[0m         \u001b[0mnew_axes\u001b[0m \u001b[1;33m=\u001b[0m \u001b[0mlist\u001b[0m\u001b[1;33m(\u001b[0m\u001b[0mself\u001b[0m\u001b[1;33m.\u001b[0m\u001b[0maxes\u001b[0m\u001b[1;33m)\u001b[0m\u001b[1;33m\u001b[0m\u001b[0m\n",
      "\u001b[1;32m~\\Anaconda3\\envs\\tensorflow\\lib\\site-packages\\pandas\\core\\internals.py\u001b[0m in \u001b[0;36mtake_nd\u001b[1;34m(self, indexer, axis, new_mgr_locs, fill_tuple)\u001b[0m\n\u001b[0;32m   1256\u001b[0m             \u001b[0mfill_value\u001b[0m \u001b[1;33m=\u001b[0m \u001b[0mfill_tuple\u001b[0m\u001b[1;33m[\u001b[0m\u001b[1;36m0\u001b[0m\u001b[1;33m]\u001b[0m\u001b[1;33m\u001b[0m\u001b[0m\n\u001b[0;32m   1257\u001b[0m             new_values = algos.take_nd(values, indexer, axis=axis,\n\u001b[1;32m-> 1258\u001b[1;33m                                        allow_fill=True, fill_value=fill_value)\n\u001b[0m\u001b[0;32m   1259\u001b[0m \u001b[1;33m\u001b[0m\u001b[0m\n\u001b[0;32m   1260\u001b[0m         \u001b[1;32mif\u001b[0m \u001b[0mnew_mgr_locs\u001b[0m \u001b[1;32mis\u001b[0m \u001b[1;32mNone\u001b[0m\u001b[1;33m:\u001b[0m\u001b[1;33m\u001b[0m\u001b[0m\n",
      "\u001b[1;32m~\\Anaconda3\\envs\\tensorflow\\lib\\site-packages\\pandas\\core\\algorithms.py\u001b[0m in \u001b[0;36mtake_nd\u001b[1;34m(arr, indexer, axis, out, fill_value, mask_info, allow_fill)\u001b[0m\n\u001b[0;32m   1650\u001b[0m             \u001b[0mout\u001b[0m \u001b[1;33m=\u001b[0m \u001b[0mnp\u001b[0m\u001b[1;33m.\u001b[0m\u001b[0mempty\u001b[0m\u001b[1;33m(\u001b[0m\u001b[0mout_shape\u001b[0m\u001b[1;33m,\u001b[0m \u001b[0mdtype\u001b[0m\u001b[1;33m=\u001b[0m\u001b[0mdtype\u001b[0m\u001b[1;33m,\u001b[0m \u001b[0morder\u001b[0m\u001b[1;33m=\u001b[0m\u001b[1;34m'F'\u001b[0m\u001b[1;33m)\u001b[0m\u001b[1;33m\u001b[0m\u001b[0m\n\u001b[0;32m   1651\u001b[0m         \u001b[1;32melse\u001b[0m\u001b[1;33m:\u001b[0m\u001b[1;33m\u001b[0m\u001b[0m\n\u001b[1;32m-> 1652\u001b[1;33m             \u001b[0mout\u001b[0m \u001b[1;33m=\u001b[0m \u001b[0mnp\u001b[0m\u001b[1;33m.\u001b[0m\u001b[0mempty\u001b[0m\u001b[1;33m(\u001b[0m\u001b[0mout_shape\u001b[0m\u001b[1;33m,\u001b[0m \u001b[0mdtype\u001b[0m\u001b[1;33m=\u001b[0m\u001b[0mdtype\u001b[0m\u001b[1;33m)\u001b[0m\u001b[1;33m\u001b[0m\u001b[0m\n\u001b[0m\u001b[0;32m   1653\u001b[0m \u001b[1;33m\u001b[0m\u001b[0m\n\u001b[0;32m   1654\u001b[0m     func = _get_take_nd_function(arr.ndim, arr.dtype, out.dtype, axis=axis,\n",
      "\u001b[1;31mMemoryError\u001b[0m: "
     ]
    }
   ],
   "source": [
    "X_filtered = extract_features(con_23, column_id='id', column_sort='time', default_fc_parameters=extract_settings)"
   ]
  },
  {
   "cell_type": "code",
   "execution_count": 15,
   "metadata": {},
   "outputs": [
    {
     "name": "stderr",
     "output_type": "stream",
     "text": [
      "C:\\Users\\USER\\Anaconda3\\envs\\tensorflow\\lib\\site-packages\\matplotlib\\cbook\\deprecation.py:107: MatplotlibDeprecationWarning: Passing one of 'on', 'true', 'off', 'false' as a boolean is deprecated; use an actual boolean (True/False) instead.\n",
      "  warnings.warn(message, mplDeprecation, stacklevel=1)\n",
      "C:\\Users\\USER\\Anaconda3\\envs\\tensorflow\\lib\\site-packages\\ipykernel_launcher.py:29: MatplotlibDeprecationWarning: pyplot.hold is deprecated.\n",
      "    Future behavior will be consistent with the long-time default:\n",
      "    plot commands add elements without first clearing the\n",
      "    Axes and/or Figure.\n",
      "C:\\Users\\USER\\Anaconda3\\envs\\tensorflow\\lib\\site-packages\\matplotlib\\__init__.py:911: MatplotlibDeprecationWarning: axes.hold is deprecated. Please remove it from your matplotlibrc and/or style files.\n",
      "  mplDeprecation)\n",
      "C:\\Users\\USER\\Anaconda3\\envs\\tensorflow\\lib\\site-packages\\matplotlib\\rcsetup.py:156: MatplotlibDeprecationWarning: axes.hold is deprecated, will be removed in 3.0\n",
      "  mplDeprecation)\n",
      "C:\\Users\\USER\\Anaconda3\\envs\\tensorflow\\lib\\site-packages\\matplotlib\\cbook\\deprecation.py:107: MatplotlibDeprecationWarning: Passing one of 'on', 'true', 'off', 'false' as a boolean is deprecated; use an actual boolean (True/False) instead.\n",
      "  warnings.warn(message, mplDeprecation, stacklevel=1)\n"
     ]
    },
    {
     "data": {
      "image/png": "[encoded data removed]",
      "text/plain": [
       "<Figure size 432x288 with 2 Axes>"
      ]
     },
     "metadata": {},
     "output_type": "display_data"
    }
   ],
   "source": [
    "import pywt\n",
    "import matplotlib.pyplot as plt\n",
    "import numpy as np\n",
    "\n",
    "ts = [2, 56, 3, 22, 3, 4, 56, 7, 8, 9, 44, 23, 1, 4, 6, 2]\n",
    "\n",
    "(ca, cd) = pywt.dwt(cnc,'db4',mode='sym')\n",
    "\n",
    "cat = pywt.threshold(ca, np.std(ca)/2)\n",
    "cdt = pywt.threshold(cd, np.std(cd)/2)\n",
    "\n",
    "\n",
    "ts_rec = pywt.idwt(cat, cdt, 'haar')\n",
    "\n",
    "plt.close('all')\n",
    "\n",
    "plt.subplot(211)\n",
    "# Original coefficients\n",
    "plt.plot(ca, '--*b')\n",
    "plt.plot(cd, '--*r')\n",
    "# Thresholded coefficients\n",
    "plt.plot(cat, '--*c')\n",
    "plt.plot(cdt, '--*m')\n",
    "plt.legend(['ca','cd','ca_thresh', 'cd_thresh'], loc=0)\n",
    "plt.grid('on')\n",
    "\n",
    "plt.subplot(212)\n",
    "plt.plot(ts)\n",
    "plt.hold('on')\n",
    "plt.plot(ts_rec, 'r')\n",
    "plt.legend(['original signal', 'reconstructed signal'])\n",
    "plt.grid('on')\n",
    "plt.show()"
   ]
  },
  {
   "cell_type": "code",
   "execution_count": 11,
   "metadata": {},
   "outputs": [
    {
     "data": {
      "text/plain": [
       "(1548800, 6)"
      ]
     },
     "execution_count": 11,
     "metadata": {},
     "output_type": "execute_result"
    }
   ],
   "source": [
    "ca.shape"
   ]
  },
  {
   "cell_type": "code",
   "execution_count": 12,
   "metadata": {},
   "outputs": [
    {
     "data": {
      "text/plain": [
       "array([[-21.93865013,  -2.5712066 ,  -2.49126113,  10.11249015,\n",
       "        -41.87866552,  57.07540089],\n",
       "       [-24.23536713,  -6.86063854,  -0.29242181,   8.45472366,\n",
       "        -47.93898798,  64.02620677],\n",
       "       [-25.99551696,  -4.68289399,  -2.98247433,  10.42936079,\n",
       "        -50.2528867 ,  67.633478  ],\n",
       "       ...,\n",
       "       [-16.10237396,   5.39345213,   0.92455235,  11.60935289,\n",
       "        -21.06218176,  16.2933356 ],\n",
       "       [-13.84806507,   6.7832659 ,   1.01178342,  11.73657132,\n",
       "        -16.77591451,  11.91994453],\n",
       "       [-11.75675477,   6.58508324,   0.9681284 ,  10.54886357,\n",
       "        -13.54795533,   8.62019707]])"
      ]
     },
     "execution_count": 12,
     "metadata": {},
     "output_type": "execute_result"
    }
   ],
   "source": [
    "ca"
   ]
  },
  {
   "cell_type": "code",
   "execution_count": 7,
   "metadata": {},
   "outputs": [],
   "source": [
    "# 2,3,4當train、8當test\n",
    "# preprocessing\n",
    "# rms\n",
    "path = \"/Users/USER/Desktop/大數據分析大賽/split9/8\"\n",
    "os.chdir( path )\n",
    "\n",
    "files = os.listdir(path)\n",
    "with open(\"/Users/USER/Desktop/大數據分析大賽/split9/8/original_rms.csv\",'w') as writeFile:\n",
    "    writer = csv.writer(writeFile)\n",
    "    for file in files:\n",
    "        tdms_file = TdmsFile(file)\n",
    "        tdms_groups = tdms_file.groups()\n",
    "        for group in tdms_file.groups():\n",
    "            grp1_data = tdms_file.object('Spindle').as_dataframe()\n",
    "            grp2_data = tdms_file.object('Current').as_dataframe()\n",
    "            cnc = pd.concat([grp1_data,grp2_data],axis=1)\n",
    "            rms = np.sqrt(np.mean(cnc**2))\n",
    "        writer.writerows([rms])\n",
    "cnc_mean = pd.read_csv(\"original_rms.csv\",names=['S01','S02','S03','IA','IB','IC'])\n",
    "cnc_mean.to_csv(\"rms.csv\")"
   ]
  },
  {
   "cell_type": "code",
   "execution_count": 12,
   "metadata": {},
   "outputs": [],
   "source": [
    "# 2,3,4當train、8當test\n",
    "# preprocessing\n",
    "# max\n",
    "path = \"/Users/USER/Desktop/大數據分析大賽/split9/8\"\n",
    "os.chdir( path )\n",
    "\n",
    "files = os.listdir(path)\n",
    "with open(\"/Users/USER/Desktop/大數據分析大賽/split9/8/original_max.csv\",'w') as writeFile:\n",
    "    writer = csv.writer(writeFile)\n",
    "    for file in files:\n",
    "        tdms_file = TdmsFile(file)\n",
    "        tdms_groups = tdms_file.groups()\n",
    "        for group in tdms_file.groups():\n",
    "            grp1_data = tdms_file.object('Spindle').as_dataframe()\n",
    "            grp2_data = tdms_file.object('Current').as_dataframe()\n",
    "            cnc = pd.concat([grp1_data,grp2_data],axis=1)\n",
    "            maxx = cnc.max()\n",
    "        writer.writerows([maxx])\n",
    "cnc_mean = pd.read_csv(\"original_max.csv\",names=['S01','S02','S03','IA','IB','IC'])\n",
    "cnc_mean.to_csv(\"max.csv\")"
   ]
  },
  {
   "cell_type": "code",
   "execution_count": 17,
   "metadata": {},
   "outputs": [],
   "source": [
    "# skewness偏態係數\n",
    "# 2,3,4當train、8當test\n",
    "# preprocessing\n",
    "path = \"/Users/USER/Desktop/大數據分析大賽/split9/8\"\n",
    "os.chdir( path )\n",
    "\n",
    "files = os.listdir(path)\n",
    "with open(\"/Users/USER/Desktop/大數據分析大賽/split9/8/original_skew.csv\",'w') as writeFile:\n",
    "    writer = csv.writer(writeFile)\n",
    "    for file in files:\n",
    "        tdms_file = TdmsFile(file)\n",
    "        tdms_groups = tdms_file.groups()\n",
    "        for group in tdms_file.groups():\n",
    "            grp1_data = tdms_file.object('Spindle').as_dataframe()\n",
    "            grp2_data = tdms_file.object('Current').as_dataframe()\n",
    "            cnc = pd.concat([grp1_data,grp2_data],axis=1)\n",
    "            skew = cnc.skew()\n",
    "        writer.writerows([skew])\n",
    "cnc_mean = pd.read_csv(\"original_skew.csv\",names=['S01','S02','S03','IA','IB','IC'])\n",
    "cnc_mean.to_csv(\"skew.csv\")"
   ]
  },
  {
   "cell_type": "code",
   "execution_count": 21,
   "metadata": {},
   "outputs": [],
   "source": [
    "# kurtosis峰態係數\n",
    "# 2,3,4當train、8當test\n",
    "# preprocessing\n",
    "path = \"/Users/USER/Desktop/大數據分析大賽/split9/8\"\n",
    "os.chdir( path )\n",
    "\n",
    "files = os.listdir(path)\n",
    "with open(\"/Users/USER/Desktop/大數據分析大賽/split9/8/original_kurtosis.csv\",'w') as writeFile:\n",
    "    writer = csv.writer(writeFile)\n",
    "    for file in files:\n",
    "        tdms_file = TdmsFile(file)\n",
    "        tdms_groups = tdms_file.groups()\n",
    "        for group in tdms_file.groups():\n",
    "            grp1_data = tdms_file.object('Spindle').as_dataframe()\n",
    "            grp2_data = tdms_file.object('Current').as_dataframe()\n",
    "            cnc = pd.concat([grp1_data,grp2_data],axis=1)\n",
    "            kurtosis = cnc.kurtosis()\n",
    "        writer.writerows([kurtosis])\n",
    "cnc_mean = pd.read_csv(\"original_kurtosis.csv\",names=['S01','S02','S03','IA','IB','IC'])\n",
    "cnc_mean.to_csv(\"kurtosis.csv\")"
   ]
  },
  {
   "cell_type": "code",
   "execution_count": null,
   "metadata": {},
   "outputs": [],
   "source": []
  },
  {
   "cell_type": "code",
   "execution_count": null,
   "metadata": {},
   "outputs": [],
   "source": []
  }
 ],
 "metadata": {
  "kernelspec": {
   "display_name": "Python 3",
   "language": "python",
   "name": "python3"
  },
  "language_info": {
   "codemirror_mode": {
    "name": "ipython",
    "version": 3
   },
   "file_extension": ".py",
   "mimetype": "text/x-python",
   "name": "python",
   "nbconvert_exporter": "python",
   "pygments_lexer": "ipython3",
   "version": "3.5.5"
  }
 },
 "nbformat": 4,
 "nbformat_minor": 2
}
